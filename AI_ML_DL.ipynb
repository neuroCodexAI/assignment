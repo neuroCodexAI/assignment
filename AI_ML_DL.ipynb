{
 "cells": [
  {
   "cell_type": "markdown",
   "id": "7b1cb084",
   "metadata": {},
   "source": []
  },
  {
   "cell_type": "markdown",
   "id": "7bdba627",
   "metadata": {},
   "source": [
    "#### Q1: Explain the following with an example:F\n",
    "- i) Artificial Intelligence\n",
    "- ii) Machine Learnin,\n",
    "- iii) Deep Learning"
   ]
  },
  {
   "cell_type": "markdown",
   "id": "3c62ffa4",
   "metadata": {},
   "source": [
    "-  Artificial Intelligence (AI) Definition: AI is the simulation of human intelligence in machines that are programmed to think and learn like humans.\n",
    "\n",
    "Example: A chatbot like ChatGPT answering your questions like a human.\n",
    "-  Machine Learning (ML)  Definition: ML is a subset of AI that enables systems to learn from data and improve from experience without being explicitly programmed.\n",
    "\n",
    "Example: Email spam filters that learn to classify spam vs non-spam using past emails.\n",
    "- Deep Learning (DL) Definition: DL is a subset of ML based on neural networks with many layers, often used for processing unstructured data like images, videos, or text.\n",
    "\n",
    "Example: Image recognition in self-driving cars using CNNs.\n",
    "\n"
   ]
  },
  {
   "cell_type": "markdown",
   "id": "dc9ab3e4",
   "metadata": {},
   "source": [
    "### 2: What is supervised learning? List some examples.\n",
    "Supervised learning is a type of machine learning where the model is trained on labeled data.\n",
    "\n",
    "Examples:\n",
    "\n",
    "Predicting house prices (Regression)\n",
    "\n",
    "Email spam detection (Classification)\n",
    "\n",
    "Image classification (e.g., cat vs dog)"
   ]
  },
  {
   "cell_type": "markdown",
   "id": "af550561",
   "metadata": {},
   "source": [
    "#### Q3: What is unsupervised learning? List some examples.\n",
    "Unsupervised learning is a type of ML where the model learns patterns from data without labeled outputs.\n",
    "\n",
    "Examples:\n",
    "\n",
    "Customer segmentation\n",
    "\n",
    "Market basket analysis\n",
    "\n",
    "Anomaly detection\n",
    "\n"
   ]
  },
  {
   "cell_type": "markdown",
   "id": "89cdda9f",
   "metadata": {},
   "source": [
    "#### Q4: What is the difference between AI, ML, DL, and DS?\n",
    "Term\tDescription\tExample\n",
    "AI\tBroad field for creating intelligent systems\tChatbots, self-driving cars\n",
    "ML\tSubset of AI, learns from data\tRecommendation systems\n",
    "DL\tSubset of ML using neural networks\tFace recognition\n",
    "DS\tExtracts insights from data (includes AI/ML tools)\tData dashboards, analytics\n"
   ]
  },
  {
   "cell_type": "markdown",
   "id": "ca953e79",
   "metadata": {},
   "source": [
    "#### Q5: Differences between supervised, unsupervised & semi-supervised learning\n",
    "Feature\tSupervised\tUnsupervised\tSemi-Supervised\n",
    "Labels\tYes\tNo\tFew\n",
    "Output\tPredictive\tDescriptive\tHybrid\n",
    "Example\tSpam detection\tClustering customers\tSpeech recognition with limited labeled data\n"
   ]
  },
  {
   "cell_type": "markdown",
   "id": "bcf5dfd0",
   "metadata": {},
   "source": [
    "#### Q6: What is train, test, and validation split?\n",
    "Train Set: Used to train the model (e.g., 70%).\n",
    "\n",
    "Validation Set: Used to tune model parameters and prevent overfitting (e.g., 15%).\n",
    "\n",
    "Test Set: Used to evaluate final model performance (e.g., 15%).\n",
    "\n",
    "Importance:\n",
    "\n",
    "Prevents overfitting\n",
    "\n",
    "Measures generalization\n",
    "\n",
    "Ensures model reliability"
   ]
  },
  {
   "cell_type": "markdown",
   "id": "b4d544ee",
   "metadata": {},
   "source": [
    "#### Q7: How can unsupervised learning be used in anomaly detection?\n",
    "Anomaly detection is identifying data points that deviate from the norm.\n",
    "\n",
    "Unsupervised Approach:\n",
    "\n",
    "Use clustering (like K-Means): anomalies fall outside clusters.\n",
    "\n",
    "Use Autoencoders: anomalies have high reconstruction error.\n",
    "\n",
    "Example: Credit card fraud detection."
   ]
  },
  {
   "cell_type": "markdown",
   "id": "c835911c",
   "metadata": {},
   "source": [
    "#### Q8: Commonly used supervised & unsupervised algorithms:\n",
    "✅ Supervised Learning Algorithms:\n",
    "Linear Regression\n",
    "\n",
    "Logistic Regression\n",
    "\n",
    "Decision Trees\n",
    "\n",
    "Random Forest\n",
    "\n",
    "Support Vector Machines (SVM)\n",
    "\n",
    "k-Nearest Neighbors (kNN)\n",
    "\n",
    "Neural Networks\n",
    "\n",
    "✅ Unsupervised Learning Algorithms:\n",
    "K-Means Clustering\n",
    "\n",
    "Hierarchical Clustering\n",
    "\n",
    "PCA (Principal Component Analysis)\n",
    "\n",
    "DBSCAN\n",
    "\n",
    "Autoencoders\n"
   ]
  },
  {
   "cell_type": "markdown",
   "id": "b801b503",
   "metadata": {},
   "source": []
  }
 ],
 "metadata": {
  "language_info": {
   "name": "python"
  }
 },
 "nbformat": 4,
 "nbformat_minor": 5
}
